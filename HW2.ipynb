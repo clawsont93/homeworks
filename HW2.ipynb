{
 "cells": [
  {
   "cell_type": "markdown",
   "metadata": {},
   "source": [
    "# This project is focused on us building a model to predict housing prices. \n",
    "\n",
    "The data set is from kaggle. \n",
    "https://www.kaggle.com/c/house-prices-advanced-regression-techniques\n",
    "\n",
    "My analysis will create a somewhat predicitve linear regression model. I used various modeling tools and techniques coming mostly from Prof Folkmans lesson on linear regression. This includes my final model, using elastic net.\n",
    "https://github.com/tfolkman/byu_econ_applied_machine_learning/blob/master/lectures/Lecture_4_Linear_Regression_and_Evaluation.ipynb\n",
    "\n",
    "I gained most of my insight for cleaining the data from a kernel by Serigne attached to the project\n",
    "https://www.kaggle.com/serigne/stacked-regressions-top-4-on-leaderboard\n",
    "\n",
    "I learned how to test my model and submit it to kaggle from this kernel by Dan\n",
    "https://www.kaggle.com/dansbecker/submitting-from-a-kernel\n",
    "\n"
   ]
  },
  {
   "cell_type": "markdown",
   "metadata": {},
   "source": [
    "# Import essential packages"
   ]
  },
  {
   "cell_type": "code",
   "execution_count": 1136,
   "metadata": {},
   "outputs": [],
   "source": [
    "from sklearn.datasets import load_boston\n",
    "import pandas as pd\n",
    "import seaborn as sns\n",
    "import matplotlib.pyplot as plt\n",
    "import numpy as np\n",
    "from sklearn.model_selection import learning_curve\n",
    "from sklearn.metrics import make_scorer\n",
    "%matplotlib inline\n",
    "\n",
    "from scipy import stats\n",
    "from scipy.stats import norm, skew #for some statistics\n",
    "\n",
    "#TOOLS FOR SCALING DATA\n",
    "\n",
    "from sklearn.linear_model import SGDRegressor\n",
    "from sklearn.metrics import mean_squared_error\n",
    "from sklearn.preprocessing import StandardScaler\n",
    "\n",
    "#Polynomial regression\n",
    "from sklearn.preprocessing import PolynomialFeatures\n",
    "\n",
    "#lasso\n",
    "from sklearn.pipeline import make_pipeline\n",
    "from sklearn.preprocessing import RobustScaler\n",
    "\n",
    "#testing confidence intervals\n",
    "from sklearn.utils import resample\n",
    "\n",
    "#train test split\n",
    "from sklearn.model_selection import train_test_split"
   ]
  },
  {
   "cell_type": "markdown",
   "metadata": {},
   "source": [
    "# Import and understand the data set"
   ]
  },
  {
   "cell_type": "code",
   "execution_count": 1137,
   "metadata": {},
   "outputs": [],
   "source": [
    "training = pd.read_csv(\"/Users/tclawson/Desktop/HW2/train.csv\")"
   ]
  },
  {
   "cell_type": "code",
   "execution_count": 1138,
   "metadata": {},
   "outputs": [
    {
     "data": {
      "text/html": [
       "<div>\n",
       "<style scoped>\n",
       "    .dataframe tbody tr th:only-of-type {\n",
       "        vertical-align: middle;\n",
       "    }\n",
       "\n",
       "    .dataframe tbody tr th {\n",
       "        vertical-align: top;\n",
       "    }\n",
       "\n",
       "    .dataframe thead th {\n",
       "        text-align: right;\n",
       "    }\n",
       "</style>\n",
       "<table border=\"1\" class=\"dataframe\">\n",
       "  <thead>\n",
       "    <tr style=\"text-align: right;\">\n",
       "      <th></th>\n",
       "      <th>Id</th>\n",
       "      <th>MSSubClass</th>\n",
       "      <th>MSZoning</th>\n",
       "      <th>LotFrontage</th>\n",
       "      <th>LotArea</th>\n",
       "      <th>Street</th>\n",
       "      <th>Alley</th>\n",
       "      <th>LotShape</th>\n",
       "      <th>LandContour</th>\n",
       "      <th>Utilities</th>\n",
       "      <th>...</th>\n",
       "      <th>PoolArea</th>\n",
       "      <th>PoolQC</th>\n",
       "      <th>Fence</th>\n",
       "      <th>MiscFeature</th>\n",
       "      <th>MiscVal</th>\n",
       "      <th>MoSold</th>\n",
       "      <th>YrSold</th>\n",
       "      <th>SaleType</th>\n",
       "      <th>SaleCondition</th>\n",
       "      <th>SalePrice</th>\n",
       "    </tr>\n",
       "  </thead>\n",
       "  <tbody>\n",
       "    <tr>\n",
       "      <th>0</th>\n",
       "      <td>1</td>\n",
       "      <td>60</td>\n",
       "      <td>RL</td>\n",
       "      <td>65.0</td>\n",
       "      <td>8450</td>\n",
       "      <td>Pave</td>\n",
       "      <td>NaN</td>\n",
       "      <td>Reg</td>\n",
       "      <td>Lvl</td>\n",
       "      <td>AllPub</td>\n",
       "      <td>...</td>\n",
       "      <td>0</td>\n",
       "      <td>NaN</td>\n",
       "      <td>NaN</td>\n",
       "      <td>NaN</td>\n",
       "      <td>0</td>\n",
       "      <td>2</td>\n",
       "      <td>2008</td>\n",
       "      <td>WD</td>\n",
       "      <td>Normal</td>\n",
       "      <td>208500</td>\n",
       "    </tr>\n",
       "    <tr>\n",
       "      <th>1</th>\n",
       "      <td>2</td>\n",
       "      <td>20</td>\n",
       "      <td>RL</td>\n",
       "      <td>80.0</td>\n",
       "      <td>9600</td>\n",
       "      <td>Pave</td>\n",
       "      <td>NaN</td>\n",
       "      <td>Reg</td>\n",
       "      <td>Lvl</td>\n",
       "      <td>AllPub</td>\n",
       "      <td>...</td>\n",
       "      <td>0</td>\n",
       "      <td>NaN</td>\n",
       "      <td>NaN</td>\n",
       "      <td>NaN</td>\n",
       "      <td>0</td>\n",
       "      <td>5</td>\n",
       "      <td>2007</td>\n",
       "      <td>WD</td>\n",
       "      <td>Normal</td>\n",
       "      <td>181500</td>\n",
       "    </tr>\n",
       "    <tr>\n",
       "      <th>2</th>\n",
       "      <td>3</td>\n",
       "      <td>60</td>\n",
       "      <td>RL</td>\n",
       "      <td>68.0</td>\n",
       "      <td>11250</td>\n",
       "      <td>Pave</td>\n",
       "      <td>NaN</td>\n",
       "      <td>IR1</td>\n",
       "      <td>Lvl</td>\n",
       "      <td>AllPub</td>\n",
       "      <td>...</td>\n",
       "      <td>0</td>\n",
       "      <td>NaN</td>\n",
       "      <td>NaN</td>\n",
       "      <td>NaN</td>\n",
       "      <td>0</td>\n",
       "      <td>9</td>\n",
       "      <td>2008</td>\n",
       "      <td>WD</td>\n",
       "      <td>Normal</td>\n",
       "      <td>223500</td>\n",
       "    </tr>\n",
       "    <tr>\n",
       "      <th>3</th>\n",
       "      <td>4</td>\n",
       "      <td>70</td>\n",
       "      <td>RL</td>\n",
       "      <td>60.0</td>\n",
       "      <td>9550</td>\n",
       "      <td>Pave</td>\n",
       "      <td>NaN</td>\n",
       "      <td>IR1</td>\n",
       "      <td>Lvl</td>\n",
       "      <td>AllPub</td>\n",
       "      <td>...</td>\n",
       "      <td>0</td>\n",
       "      <td>NaN</td>\n",
       "      <td>NaN</td>\n",
       "      <td>NaN</td>\n",
       "      <td>0</td>\n",
       "      <td>2</td>\n",
       "      <td>2006</td>\n",
       "      <td>WD</td>\n",
       "      <td>Abnorml</td>\n",
       "      <td>140000</td>\n",
       "    </tr>\n",
       "    <tr>\n",
       "      <th>4</th>\n",
       "      <td>5</td>\n",
       "      <td>60</td>\n",
       "      <td>RL</td>\n",
       "      <td>84.0</td>\n",
       "      <td>14260</td>\n",
       "      <td>Pave</td>\n",
       "      <td>NaN</td>\n",
       "      <td>IR1</td>\n",
       "      <td>Lvl</td>\n",
       "      <td>AllPub</td>\n",
       "      <td>...</td>\n",
       "      <td>0</td>\n",
       "      <td>NaN</td>\n",
       "      <td>NaN</td>\n",
       "      <td>NaN</td>\n",
       "      <td>0</td>\n",
       "      <td>12</td>\n",
       "      <td>2008</td>\n",
       "      <td>WD</td>\n",
       "      <td>Normal</td>\n",
       "      <td>250000</td>\n",
       "    </tr>\n",
       "  </tbody>\n",
       "</table>\n",
       "<p>5 rows × 81 columns</p>\n",
       "</div>"
      ],
      "text/plain": [
       "   Id  MSSubClass MSZoning  LotFrontage  LotArea Street Alley LotShape  \\\n",
       "0   1          60       RL         65.0     8450   Pave   NaN      Reg   \n",
       "1   2          20       RL         80.0     9600   Pave   NaN      Reg   \n",
       "2   3          60       RL         68.0    11250   Pave   NaN      IR1   \n",
       "3   4          70       RL         60.0     9550   Pave   NaN      IR1   \n",
       "4   5          60       RL         84.0    14260   Pave   NaN      IR1   \n",
       "\n",
       "  LandContour Utilities    ...     PoolArea PoolQC Fence MiscFeature MiscVal  \\\n",
       "0         Lvl    AllPub    ...            0    NaN   NaN         NaN       0   \n",
       "1         Lvl    AllPub    ...            0    NaN   NaN         NaN       0   \n",
       "2         Lvl    AllPub    ...            0    NaN   NaN         NaN       0   \n",
       "3         Lvl    AllPub    ...            0    NaN   NaN         NaN       0   \n",
       "4         Lvl    AllPub    ...            0    NaN   NaN         NaN       0   \n",
       "\n",
       "  MoSold YrSold  SaleType  SaleCondition  SalePrice  \n",
       "0      2   2008        WD         Normal     208500  \n",
       "1      5   2007        WD         Normal     181500  \n",
       "2      9   2008        WD         Normal     223500  \n",
       "3      2   2006        WD        Abnorml     140000  \n",
       "4     12   2008        WD         Normal     250000  \n",
       "\n",
       "[5 rows x 81 columns]"
      ]
     },
     "execution_count": 1138,
     "metadata": {},
     "output_type": "execute_result"
    }
   ],
   "source": [
    "#I want to get a look for what is in the data set, this gives the first 5 data points\n",
    "training.head()"
   ]
  },
  {
   "cell_type": "markdown",
   "metadata": {},
   "source": [
    "my first thought after seeing this is all of the categorical and Na values, we'll have to do quite a bit of cleaning before we can run a model"
   ]
  },
  {
   "cell_type": "code",
   "execution_count": 1139,
   "metadata": {},
   "outputs": [
    {
     "data": {
      "text/plain": [
       "Index(['Id', 'MSSubClass', 'MSZoning', 'LotFrontage', 'LotArea', 'Street',\n",
       "       'Alley', 'LotShape', 'LandContour', 'Utilities', 'LotConfig',\n",
       "       'LandSlope', 'Neighborhood', 'Condition1', 'Condition2', 'BldgType',\n",
       "       'HouseStyle', 'OverallQual', 'OverallCond', 'YearBuilt', 'YearRemodAdd',\n",
       "       'RoofStyle', 'RoofMatl', 'Exterior1st', 'Exterior2nd', 'MasVnrType',\n",
       "       'MasVnrArea', 'ExterQual', 'ExterCond', 'Foundation', 'BsmtQual',\n",
       "       'BsmtCond', 'BsmtExposure', 'BsmtFinType1', 'BsmtFinSF1',\n",
       "       'BsmtFinType2', 'BsmtFinSF2', 'BsmtUnfSF', 'TotalBsmtSF', 'Heating',\n",
       "       'HeatingQC', 'CentralAir', 'Electrical', '1stFlrSF', '2ndFlrSF',\n",
       "       'LowQualFinSF', 'GrLivArea', 'BsmtFullBath', 'BsmtHalfBath', 'FullBath',\n",
       "       'HalfBath', 'BedroomAbvGr', 'KitchenAbvGr', 'KitchenQual',\n",
       "       'TotRmsAbvGrd', 'Functional', 'Fireplaces', 'FireplaceQu', 'GarageType',\n",
       "       'GarageYrBlt', 'GarageFinish', 'GarageCars', 'GarageArea', 'GarageQual',\n",
       "       'GarageCond', 'PavedDrive', 'WoodDeckSF', 'OpenPorchSF',\n",
       "       'EnclosedPorch', '3SsnPorch', 'ScreenPorch', 'PoolArea', 'PoolQC',\n",
       "       'Fence', 'MiscFeature', 'MiscVal', 'MoSold', 'YrSold', 'SaleType',\n",
       "       'SaleCondition', 'SalePrice'],\n",
       "      dtype='object')"
      ]
     },
     "execution_count": 1139,
     "metadata": {},
     "output_type": "execute_result"
    }
   ],
   "source": [
    "#I want to know what every column(variable) is, \n",
    "#I can reference the data.txt file to learn more about each of them\n",
    "training.columns"
   ]
  },
  {
   "cell_type": "markdown",
   "metadata": {},
   "source": [
    "# Cleaning data"
   ]
  },
  {
   "cell_type": "code",
   "execution_count": 1140,
   "metadata": {},
   "outputs": [],
   "source": [
    "#From the head, we can see ID is clearly not helpful it is a label that doesnt add any value or insight, \n",
    "#lets first sav it, then drop it from the dataframe\n",
    "train_ID = training['Id']\n",
    "\n",
    "\n"
   ]
  },
  {
   "cell_type": "code",
   "execution_count": 1141,
   "metadata": {},
   "outputs": [],
   "source": [
    "training.drop(\"Id\", axis = 1, inplace = True)\n"
   ]
  },
  {
   "cell_type": "code",
   "execution_count": 1142,
   "metadata": {},
   "outputs": [],
   "source": [
    "#we will be looking at a few scatter plots so I create a function\n",
    "def scatter(file):\n",
    "    fig, ax = plt.subplots()\n",
    "    ax.scatter(x = file['GrLivArea'], y = file['SalePrice'])\n",
    "    plt.ylabel('SalePrice', fontsize=13)\n",
    "    plt.xlabel('GrLivArea', fontsize=13)\n",
    "    plt.show()"
   ]
  },
  {
   "cell_type": "code",
   "execution_count": 1143,
   "metadata": {},
   "outputs": [
    {
     "data": {
      "image/png": "[encoded data removed]",
      "text/plain": [
       "<Figure size 432x288 with 1 Axes>"
      ]
     },
     "metadata": {},
     "output_type": "display_data"
    }
   ],
   "source": [
    "#lets look at one of the biggest correlations possible, living area sq footage \n",
    "#and price to see if there are any outliers\n",
    "scatter(training)"
   ]
  },
  {
   "cell_type": "markdown",
   "metadata": {},
   "source": [
    "This is a great find from the scatter plot, we ned to drop those two variables on the bottom right of the set"
   ]
  },
  {
   "cell_type": "code",
   "execution_count": 1144,
   "metadata": {},
   "outputs": [],
   "source": [
    "#here we can emiinate those extraneous points on the bottom right, \n",
    "#they are massive sq footage with low costs which would skew our results\n",
    "training = training.drop(training[(training['GrLivArea']>4000) & (training['SalePrice']<300000)].index)"
   ]
  },
  {
   "cell_type": "code",
   "execution_count": 1145,
   "metadata": {},
   "outputs": [
    {
     "data": {
      "image/png": "[encoded data removed]",
      "text/plain": [
       "<Figure size 432x288 with 1 Axes>"
      ]
     },
     "metadata": {},
     "output_type": "display_data"
    }
   ],
   "source": [
    "scatter(training)\n",
    "#this gives us the hopefully cleaned data"
   ]
  },
  {
   "cell_type": "code",
   "execution_count": 1146,
   "metadata": {},
   "outputs": [
    {
     "name": "stderr",
     "output_type": "stream",
     "text": [
      "/anaconda3/lib/python3.6/site-packages/matplotlib/axes/_axes.py:6462: UserWarning: The 'normed' kwarg is deprecated, and has been replaced by the 'density' kwarg.\n",
      "  warnings.warn(\"The 'normed' kwarg is deprecated, and has been \"\n"
     ]
    },
    {
     "data": {
      "text/plain": [
       "<matplotlib.axes._subplots.AxesSubplot at 0x1ad3d2db00>"
      ]
     },
     "execution_count": 1146,
     "metadata": {},
     "output_type": "execute_result"
    },
    {
     "data": {
      "image/png": "[encoded data removed]",
      "text/plain": [
       "<Figure size 432x288 with 1 Axes>"
      ]
     },
     "metadata": {},
     "output_type": "display_data"
    }
   ],
   "source": [
    "#lets dive into our target variable SalePrice by taking a look at the distribution\n",
    "sns.distplot(training['SalePrice'], kde=True)"
   ]
  },
  {
   "cell_type": "markdown",
   "metadata": {},
   "source": [
    "This shows us the data is not distrubted normally and we need normally distrubuted data to work with linear regression. so lets normalize, we'll start by making a new data frame with the SalePrice variable"
   ]
  },
  {
   "cell_type": "code",
   "execution_count": 1147,
   "metadata": {},
   "outputs": [],
   "source": [
    "#lets create an isolated data frame for our target variable, called target\n",
    "target = training['SalePrice']"
   ]
  },
  {
   "cell_type": "code",
   "execution_count": 1148,
   "metadata": {},
   "outputs": [],
   "source": [
    "#here we normalize the data with a log function\n",
    "target = np.log(target)"
   ]
  },
  {
   "cell_type": "code",
   "execution_count": 1149,
   "metadata": {},
   "outputs": [
    {
     "name": "stderr",
     "output_type": "stream",
     "text": [
      "/anaconda3/lib/python3.6/site-packages/matplotlib/axes/_axes.py:6462: UserWarning: The 'normed' kwarg is deprecated, and has been replaced by the 'density' kwarg.\n",
      "  warnings.warn(\"The 'normed' kwarg is deprecated, and has been \"\n"
     ]
    },
    {
     "data": {
      "text/plain": [
       "<matplotlib.axes._subplots.AxesSubplot at 0x1a35296160>"
      ]
     },
     "execution_count": 1149,
     "metadata": {},
     "output_type": "execute_result"
    },
    {
     "data": {
      "image/png": "[encoded data removed]",
      "text/plain": [
       "<Figure size 432x288 with 1 Axes>"
      ]
     },
     "metadata": {},
     "output_type": "display_data"
    }
   ],
   "source": [
    "#If we have isolted and normalized the data we should see a normal distribution below\n",
    "sns.distplot(target, kde=True)"
   ]
  },
  {
   "cell_type": "markdown",
   "metadata": {},
   "source": [
    "Great! Normally distributed data, now lets remove that from our original data set so we can make predictions without biasing to the known sales price"
   ]
  },
  {
   "cell_type": "code",
   "execution_count": 1150,
   "metadata": {},
   "outputs": [],
   "source": [
    "#now that we've isolated it, lets remove the SalePrice column\n",
    "\n",
    "training = training.drop(['SalePrice'], axis=1)\n",
    "#axis=1 in python represents a column"
   ]
  },
  {
   "cell_type": "markdown",
   "metadata": {},
   "source": [
    "With this we now have a training data set with the key variables we want, there are a lot of Na and empty variables, lets try to fill in those numbers"
   ]
  },
  {
   "cell_type": "code",
   "execution_count": 1151,
   "metadata": {},
   "outputs": [
    {
     "data": {
      "text/html": [
       "<div>\n",
       "<style scoped>\n",
       "    .dataframe tbody tr th:only-of-type {\n",
       "        vertical-align: middle;\n",
       "    }\n",
       "\n",
       "    .dataframe tbody tr th {\n",
       "        vertical-align: top;\n",
       "    }\n",
       "\n",
       "    .dataframe thead th {\n",
       "        text-align: right;\n",
       "    }\n",
       "</style>\n",
       "<table border=\"1\" class=\"dataframe\">\n",
       "  <thead>\n",
       "    <tr style=\"text-align: right;\">\n",
       "      <th></th>\n",
       "      <th>Missing Ratio</th>\n",
       "    </tr>\n",
       "  </thead>\n",
       "  <tbody>\n",
       "    <tr>\n",
       "      <th>PoolQC</th>\n",
       "      <td>99.588477</td>\n",
       "    </tr>\n",
       "    <tr>\n",
       "      <th>MiscFeature</th>\n",
       "      <td>96.296296</td>\n",
       "    </tr>\n",
       "    <tr>\n",
       "      <th>Alley</th>\n",
       "      <td>93.758573</td>\n",
       "    </tr>\n",
       "    <tr>\n",
       "      <th>Fence</th>\n",
       "      <td>80.727023</td>\n",
       "    </tr>\n",
       "    <tr>\n",
       "      <th>FireplaceQu</th>\n",
       "      <td>47.325103</td>\n",
       "    </tr>\n",
       "    <tr>\n",
       "      <th>LotFrontage</th>\n",
       "      <td>17.764060</td>\n",
       "    </tr>\n",
       "    <tr>\n",
       "      <th>GarageYrBlt</th>\n",
       "      <td>5.555556</td>\n",
       "    </tr>\n",
       "    <tr>\n",
       "      <th>GarageType</th>\n",
       "      <td>5.555556</td>\n",
       "    </tr>\n",
       "    <tr>\n",
       "      <th>GarageFinish</th>\n",
       "      <td>5.555556</td>\n",
       "    </tr>\n",
       "    <tr>\n",
       "      <th>GarageQual</th>\n",
       "      <td>5.555556</td>\n",
       "    </tr>\n",
       "    <tr>\n",
       "      <th>GarageCond</th>\n",
       "      <td>5.555556</td>\n",
       "    </tr>\n",
       "    <tr>\n",
       "      <th>BsmtFinType2</th>\n",
       "      <td>2.606310</td>\n",
       "    </tr>\n",
       "    <tr>\n",
       "      <th>BsmtExposure</th>\n",
       "      <td>2.606310</td>\n",
       "    </tr>\n",
       "    <tr>\n",
       "      <th>BsmtFinType1</th>\n",
       "      <td>2.537723</td>\n",
       "    </tr>\n",
       "    <tr>\n",
       "      <th>BsmtCond</th>\n",
       "      <td>2.537723</td>\n",
       "    </tr>\n",
       "    <tr>\n",
       "      <th>BsmtQual</th>\n",
       "      <td>2.537723</td>\n",
       "    </tr>\n",
       "    <tr>\n",
       "      <th>MasVnrArea</th>\n",
       "      <td>0.548697</td>\n",
       "    </tr>\n",
       "    <tr>\n",
       "      <th>MasVnrType</th>\n",
       "      <td>0.548697</td>\n",
       "    </tr>\n",
       "    <tr>\n",
       "      <th>Electrical</th>\n",
       "      <td>0.068587</td>\n",
       "    </tr>\n",
       "  </tbody>\n",
       "</table>\n",
       "</div>"
      ],
      "text/plain": [
       "              Missing Ratio\n",
       "PoolQC            99.588477\n",
       "MiscFeature       96.296296\n",
       "Alley             93.758573\n",
       "Fence             80.727023\n",
       "FireplaceQu       47.325103\n",
       "LotFrontage       17.764060\n",
       "GarageYrBlt        5.555556\n",
       "GarageType         5.555556\n",
       "GarageFinish       5.555556\n",
       "GarageQual         5.555556\n",
       "GarageCond         5.555556\n",
       "BsmtFinType2       2.606310\n",
       "BsmtExposure       2.606310\n",
       "BsmtFinType1       2.537723\n",
       "BsmtCond           2.537723\n",
       "BsmtQual           2.537723\n",
       "MasVnrArea         0.548697\n",
       "MasVnrType         0.548697\n",
       "Electrical         0.068587"
      ]
     },
     "execution_count": 1151,
     "metadata": {},
     "output_type": "execute_result"
    }
   ],
   "source": [
    "#given my quick scans of the sumary stats and head data, we have a lot of missing vlaues, \n",
    "#lets create a data set built around the nul vavlues to see how much data is missing\n",
    "\n",
    "training_na = (training.isnull().sum() / len(training)) * 100\n",
    "training_na = training_na.drop(training_na[training_na == 0].index).sort_values(ascending=False)[:30]\n",
    "missing_data = pd.DataFrame({'Missing Ratio' :training_na})\n",
    "missing_data.head(20)"
   ]
  },
  {
   "cell_type": "code",
   "execution_count": 1152,
   "metadata": {},
   "outputs": [
    {
     "data": {
      "text/plain": [
       "Text(0.5,1,'Percent missing data by feature')"
      ]
     },
     "execution_count": 1152,
     "metadata": {},
     "output_type": "execute_result"
    },
    {
     "data": {
      "image/png": "[encoded data removed]",
      "text/plain": [
       "<Figure size 1080x864 with 1 Axes>"
      ]
     },
     "metadata": {},
     "output_type": "display_data"
    }
   ],
   "source": [
    "#this will visualize the missing variables that we will then be able to fill in.\n",
    "\n",
    "f, ax = plt.subplots(figsize=(15, 12))\n",
    "plt.xticks(rotation='90')\n",
    "sns.barplot(x=training_na.index, y=training_na)\n",
    "plt.xlabel('Features', fontsize=15)\n",
    "plt.ylabel('Percent of missing values', fontsize=15)\n",
    "plt.title('Percent missing data by feature', fontsize=15)"
   ]
  },
  {
   "cell_type": "markdown",
   "metadata": {},
   "source": [
    "# Before we clean the entire set, lets merge data sets\n",
    "## Given the quantity of missing data in the training set we will need to assume a lot of values in the set, lets combine the test and training data so we can engineer replacements for the missing variables in one swoop. \n"
   ]
  },
  {
   "cell_type": "code",
   "execution_count": 1153,
   "metadata": {},
   "outputs": [],
   "source": [
    "#lets import the testing set\n",
    "test = pd.read_csv('/Users/tclawson/Desktop/HW2/test.csv')"
   ]
  },
  {
   "cell_type": "code",
   "execution_count": 1154,
   "metadata": {},
   "outputs": [],
   "source": [
    "#We'll save the test Id column in its own df\n",
    "test_ID = test['Id']\n",
    "#now we'll drop the ID column\n",
    "test.drop(\"Id\", axis = 1, inplace = True)"
   ]
  },
  {
   "cell_type": "code",
   "execution_count": 1155,
   "metadata": {},
   "outputs": [],
   "source": [
    "ntrain = training.shape[0]\n",
    "ntest = test.shape[0]\n",
    "y_train = target.values\n",
    "all_data = pd.concat((training, test)).reset_index(drop=True)\n"
   ]
  },
  {
   "cell_type": "code",
   "execution_count": 1156,
   "metadata": {},
   "outputs": [
    {
     "data": {
      "text/plain": [
       "Index(['MSSubClass', 'MSZoning', 'LotFrontage', 'LotArea', 'Street', 'Alley',\n",
       "       'LotShape', 'LandContour', 'Utilities', 'LotConfig', 'LandSlope',\n",
       "       'Neighborhood', 'Condition1', 'Condition2', 'BldgType', 'HouseStyle',\n",
       "       'OverallQual', 'OverallCond', 'YearBuilt', 'YearRemodAdd', 'RoofStyle',\n",
       "       'RoofMatl', 'Exterior1st', 'Exterior2nd', 'MasVnrType', 'MasVnrArea',\n",
       "       'ExterQual', 'ExterCond', 'Foundation', 'BsmtQual', 'BsmtCond',\n",
       "       'BsmtExposure', 'BsmtFinType1', 'BsmtFinSF1', 'BsmtFinType2',\n",
       "       'BsmtFinSF2', 'BsmtUnfSF', 'TotalBsmtSF', 'Heating', 'HeatingQC',\n",
       "       'CentralAir', 'Electrical', '1stFlrSF', '2ndFlrSF', 'LowQualFinSF',\n",
       "       'GrLivArea', 'BsmtFullBath', 'BsmtHalfBath', 'FullBath', 'HalfBath',\n",
       "       'BedroomAbvGr', 'KitchenAbvGr', 'KitchenQual', 'TotRmsAbvGrd',\n",
       "       'Functional', 'Fireplaces', 'FireplaceQu', 'GarageType', 'GarageYrBlt',\n",
       "       'GarageFinish', 'GarageCars', 'GarageArea', 'GarageQual', 'GarageCond',\n",
       "       'PavedDrive', 'WoodDeckSF', 'OpenPorchSF', 'EnclosedPorch', '3SsnPorch',\n",
       "       'ScreenPorch', 'PoolArea', 'PoolQC', 'Fence', 'MiscFeature', 'MiscVal',\n",
       "       'MoSold', 'YrSold', 'SaleType', 'SaleCondition'],\n",
       "      dtype='object')"
      ]
     },
     "execution_count": 1156,
     "metadata": {},
     "output_type": "execute_result"
    }
   ],
   "source": [
    "all_data.columns"
   ]
  },
  {
   "cell_type": "markdown",
   "metadata": {},
   "source": [
    "we need to tackle these missing values, lets go through the variables with text based results\n"
   ]
  },
  {
   "cell_type": "code",
   "execution_count": 1157,
   "metadata": {},
   "outputs": [],
   "source": [
    "#this replaces Na values in tet with \"None\"\n",
    "#I attempted to create a fillna command that performed thsi repetitive action, \n",
    "#but kept running into roadblocks with the need for \"\". This is something I'd like to better learn how to do\n",
    "\n",
    "all_data[\"PoolQC\"] = all_data[\"PoolQC\"].fillna(\"None\")\n",
    "all_data[\"MiscFeature\"] = all_data[\"MiscFeature\"].fillna(\"None\")\n",
    "all_data[\"Alley\"] = all_data[\"Alley\"].fillna(\"None\")\n",
    "all_data[\"Fence\"] = all_data[\"Fence\"].fillna(\"None\")\n",
    "all_data[\"FireplaceQu\"] = all_data[\"FireplaceQu\"].fillna(\"None\")\n",
    "for col in ('GarageType', 'GarageFinish', 'GarageQual', 'GarageCond'):\n",
    "    all_data[col] = all_data[col].fillna('None')\n",
    "all_data[\"MasVnrType\"] = all_data[\"MasVnrType\"].fillna(\"None\")\n",
    "all_data[\"MasVnrArea\"] = all_data[\"MasVnrArea\"].fillna(0)\n",
    "#Na tells us no building class, lets fill in with none\n",
    "all_data['MSSubClass'] = all_data['MSSubClass'].fillna(\"None\")"
   ]
  },
  {
   "cell_type": "code",
   "execution_count": 1158,
   "metadata": {},
   "outputs": [],
   "source": [
    "#for lot frontage lets fill it in with the average for the neighborhood\n",
    "#the fillna(x.mean) fills Na values with the mean of the data set\n",
    "all_data[\"LotFrontage\"] = all_data.groupby(\"Neighborhood\")[\"LotFrontage\"].transform(\n",
    "    lambda x: x.fillna(x.mean()))"
   ]
  },
  {
   "cell_type": "code",
   "execution_count": 1159,
   "metadata": {},
   "outputs": [],
   "source": [
    "#no car space should equal no garage so lets set these to 0\n",
    "for col in ('GarageYrBlt', 'GarageArea', 'GarageCars'):\n",
    "    all_data[col] = all_data[col].fillna(0)"
   ]
  },
  {
   "cell_type": "code",
   "execution_count": 1160,
   "metadata": {},
   "outputs": [],
   "source": [
    "#similar to cars, its likely there is no basement if these value are missing\n",
    "for col in ('BsmtFinSF1', 'BsmtFinSF2', 'BsmtUnfSF','TotalBsmtSF', 'BsmtFullBath', 'BsmtHalfBath'):\n",
    "    all_data[col] = all_data[col].fillna(0)\n",
    "for col in ('BsmtQual', 'BsmtCond', 'BsmtExposure', 'BsmtFinType1', 'BsmtFinType2'):\n",
    "    all_data[col] = all_data[col].fillna('None')"
   ]
  },
  {
   "cell_type": "code",
   "execution_count": 1161,
   "metadata": {},
   "outputs": [],
   "source": [
    "#If wee need to quickly see the breakdown of a variable we can use this command\n",
    "def breakdown(variable):\n",
    "    return all_data[variable].value_counts() "
   ]
  },
  {
   "cell_type": "code",
   "execution_count": 1162,
   "metadata": {},
   "outputs": [
    {
     "data": {
      "text/plain": [
       "RL         2263\n",
       "RM          460\n",
       "FV          139\n",
       "RH           26\n",
       "C (all)      25\n",
       "Name: MSZoning, dtype: int64"
      ]
     },
     "execution_count": 1162,
     "metadata": {},
     "output_type": "execute_result"
    }
   ],
   "source": [
    "#lets look at MSZOning data to better understand the types and quantity available\n",
    "\n",
    "breakdown('MSZoning')"
   ]
  },
  {
   "cell_type": "markdown",
   "metadata": {},
   "source": [
    "Most of these categories have a large majority of thier findings in one type, in this case it's RL. We will fill in missing data points with the most common value"
   ]
  },
  {
   "cell_type": "code",
   "execution_count": 1163,
   "metadata": {},
   "outputs": [],
   "source": [
    "#I will be filling multiple data points with variables based on the most seen value \n",
    "#so I am creating a command to fill NA with the mode value\n",
    "def modefill(variable):\n",
    "    return all_data[variable].fillna(all_data[variable].mode()[0])"
   ]
  },
  {
   "cell_type": "code",
   "execution_count": 1164,
   "metadata": {},
   "outputs": [],
   "source": [
    "all_data['MSZoning'] = modefill('MSZoning')"
   ]
  },
  {
   "cell_type": "code",
   "execution_count": 1165,
   "metadata": {},
   "outputs": [
    {
     "data": {
      "text/plain": [
       "RL         2267\n",
       "RM          460\n",
       "FV          139\n",
       "RH           26\n",
       "C (all)      25\n",
       "Name: MSZoning, dtype: int64"
      ]
     },
     "execution_count": 1165,
     "metadata": {},
     "output_type": "execute_result"
    }
   ],
   "source": [
    "#The .mode command worked as seen in the breakdown below which now has 4 more RL values\n",
    "breakdown('MSZoning')"
   ]
  },
  {
   "cell_type": "code",
   "execution_count": 1166,
   "metadata": {},
   "outputs": [
    {
     "data": {
      "text/plain": [
       "AllPub    2914\n",
       "NoSeWa       1\n",
       "Name: Utilities, dtype: int64"
      ]
     },
     "execution_count": 1166,
     "metadata": {},
     "output_type": "execute_result"
    }
   ],
   "source": [
    "breakdown('Utilities')"
   ]
  },
  {
   "cell_type": "code",
   "execution_count": 1167,
   "metadata": {},
   "outputs": [],
   "source": [
    "#after looking at utilities, we see there is only one instance where people are not on public utilites.\n",
    "#THis will not be helpful in any model or prediction, so we will drop it from the data set\n",
    "\n",
    "all_data = all_data.drop(['Utilities'], axis=1)\n"
   ]
  },
  {
   "cell_type": "code",
   "execution_count": 1168,
   "metadata": {},
   "outputs": [],
   "source": [
    "#Functional : the data description says NA means typical, so lets replace NA with Typ\n",
    "all_data[\"Functional\"] = all_data[\"Functional\"].fillna(\"Typ\")\n"
   ]
  },
  {
   "cell_type": "code",
   "execution_count": 1169,
   "metadata": {},
   "outputs": [
    {
     "data": {
      "text/plain": [
       "SBrkr    2669\n",
       "FuseA     188\n",
       "FuseF      50\n",
       "FuseP       8\n",
       "Mix         1\n",
       "Name: Electrical, dtype: int64"
      ]
     },
     "execution_count": 1169,
     "metadata": {},
     "output_type": "execute_result"
    }
   ],
   "source": [
    "breakdown('Electrical')"
   ]
  },
  {
   "cell_type": "code",
   "execution_count": 1170,
   "metadata": {},
   "outputs": [],
   "source": [
    "#SBrkr is the largest, lets fill that in with the modefill command we built\n",
    "all_data['Electrical'] = modefill('Electrical')\n",
    "\n",
    "#we'll repeat this process below for KitchenQual,Exterior1st, Exterior 2nd, and SaleType"
   ]
  },
  {
   "cell_type": "code",
   "execution_count": 1171,
   "metadata": {},
   "outputs": [
    {
     "data": {
      "text/plain": [
       "TA    1492\n",
       "Gd    1151\n",
       "Ex     203\n",
       "Fa      70\n",
       "Name: KitchenQual, dtype: int64"
      ]
     },
     "execution_count": 1171,
     "metadata": {},
     "output_type": "execute_result"
    }
   ],
   "source": [
    "breakdown('KitchenQual')"
   ]
  },
  {
   "cell_type": "code",
   "execution_count": 1172,
   "metadata": {},
   "outputs": [],
   "source": [
    "all_data['KitchenQual'] = modefill('KitchenQual')\n",
    "all_data['Exterior1st'] = modefill('Exterior1st')\n",
    "all_data['Exterior2nd'] = modefill('Exterior2nd')\n",
    "all_data['SaleType'] = modefill('SaleType')"
   ]
  },
  {
   "cell_type": "code",
   "execution_count": 1173,
   "metadata": {},
   "outputs": [
    {
     "data": {
      "text/plain": [
       "TA    1493\n",
       "Gd    1151\n",
       "Ex     203\n",
       "Fa      70\n",
       "Name: KitchenQual, dtype: int64"
      ]
     },
     "execution_count": 1173,
     "metadata": {},
     "output_type": "execute_result"
    }
   ],
   "source": [
    "#lets see if any values changed in kitchenqual\n",
    "breakdown('KitchenQual')"
   ]
  },
  {
   "cell_type": "markdown",
   "metadata": {},
   "source": [
    "One value was added, looks like we whould have filled in all those data points we listed above"
   ]
  },
  {
   "cell_type": "code",
   "execution_count": 1174,
   "metadata": {},
   "outputs": [
    {
     "data": {
      "text/html": [
       "<div>\n",
       "<style scoped>\n",
       "    .dataframe tbody tr th:only-of-type {\n",
       "        vertical-align: middle;\n",
       "    }\n",
       "\n",
       "    .dataframe tbody tr th {\n",
       "        vertical-align: top;\n",
       "    }\n",
       "\n",
       "    .dataframe thead th {\n",
       "        text-align: right;\n",
       "    }\n",
       "</style>\n",
       "<table border=\"1\" class=\"dataframe\">\n",
       "  <thead>\n",
       "    <tr style=\"text-align: right;\">\n",
       "      <th></th>\n",
       "      <th>Missing Ratio</th>\n",
       "    </tr>\n",
       "  </thead>\n",
       "  <tbody>\n",
       "  </tbody>\n",
       "</table>\n",
       "</div>"
      ],
      "text/plain": [
       "Empty DataFrame\n",
       "Columns: [Missing Ratio]\n",
       "Index: []"
      ]
     },
     "execution_count": 1174,
     "metadata": {},
     "output_type": "execute_result"
    }
   ],
   "source": [
    "#lets run the same command that showcased the percentage of missing data in the set. \n",
    "all_data_na = (all_data.isnull().sum() / len(all_data)) * 100\n",
    "all_data_na = all_data_na.drop(all_data_na[all_data_na == 0].index).sort_values(ascending=False)\n",
    "missing_data = pd.DataFrame({'Missing Ratio' :all_data_na})\n",
    "missing_data.head()"
   ]
  },
  {
   "cell_type": "markdown",
   "metadata": {},
   "source": [
    "It's clear that we have filled in all missing data based on the empty graph shown above"
   ]
  },
  {
   "cell_type": "markdown",
   "metadata": {},
   "source": [
    "we need to create categorical varibales for some numeric values .str will help with this\n",
    "\n",
    "Without doing that we would interpret those as invidual values and it would skew our findings"
   ]
  },
  {
   "cell_type": "code",
   "execution_count": 1175,
   "metadata": {},
   "outputs": [],
   "source": [
    "#MSSubClass=The building class\n",
    "all_data['MSSubClass'] = all_data['MSSubClass'].apply(str)\n",
    "\n",
    "\n",
    "#Changing OverallCond into a categorical variable\n",
    "all_data['OverallCond'] = all_data['OverallCond'].astype(str)\n",
    "\n",
    "\n",
    "#Year and month sold are transformed into categorical features.\n",
    "all_data['YrSold'] = all_data['YrSold'].astype(str)\n",
    "all_data['MoSold'] = all_data['MoSold'].astype(str)"
   ]
  },
  {
   "cell_type": "code",
   "execution_count": 1176,
   "metadata": {},
   "outputs": [
    {
     "name": "stdout",
     "output_type": "stream",
     "text": [
      "Shape all_data: (2917, 78)\n"
     ]
    }
   ],
   "source": [
    "#Helps interpret categorical variables  with values\n",
    "#Here is an additional resource \n",
    "#http://scikit-learn.org/stable/modules/generated/sklearn.preprocessing.LabelEncoder.html\n",
    "\n",
    "from sklearn.preprocessing import LabelEncoder\n",
    "cols = ('FireplaceQu', 'BsmtQual', 'BsmtCond', 'GarageQual', 'GarageCond', \n",
    "        'ExterQual', 'ExterCond','HeatingQC', 'PoolQC', 'KitchenQual', 'BsmtFinType1', \n",
    "        'BsmtFinType2', 'Functional', 'Fence', 'BsmtExposure', 'GarageFinish', 'LandSlope',\n",
    "        'LotShape', 'PavedDrive', 'Street', 'Alley', 'CentralAir', 'MSSubClass', 'OverallCond', \n",
    "        'YrSold', 'MoSold')\n",
    "# process columns, apply LabelEncoder to categorical features\n",
    "for c in cols:\n",
    "    lbl = LabelEncoder() \n",
    "    lbl.fit(list(all_data[c].values)) \n",
    "    all_data[c] = lbl.transform(list(all_data[c].values))\n",
    "\n",
    "# shape        \n",
    "print('Shape all_data: {}'.format(all_data.shape))"
   ]
  },
  {
   "cell_type": "code",
   "execution_count": 1177,
   "metadata": {},
   "outputs": [],
   "source": [
    "#We have to generate a very important variable for home buying, total square feet\n",
    "all_data['TotalSF'] = all_data['TotalBsmtSF'] + all_data['1stFlrSF'] + all_data['2ndFlrSF']"
   ]
  },
  {
   "cell_type": "code",
   "execution_count": 1178,
   "metadata": {},
   "outputs": [],
   "source": [
    "#POTENTIAL CRAZY SCALAR tool, I have saved it in another jupyter notebook, \n",
    "#I dont fully understand what it does so I figured I should go with a more simple approach\n",
    "#heres a link tot he more complex scalar \n",
    "#https://github.com/clawsont93/practice/blob/master/Skew%20repair%2C%20not%20used.ipynb"
   ]
  },
  {
   "cell_type": "code",
   "execution_count": 1179,
   "metadata": {},
   "outputs": [
    {
     "name": "stdout",
     "output_type": "stream",
     "text": [
      "(2917, 220)\n"
     ]
    }
   ],
   "source": [
    "#essential step to trasforming data is creating dummies, this will allow data to be shaped\n",
    "all_data = pd.get_dummies(all_data)\n",
    "print(all_data.shape)"
   ]
  },
  {
   "cell_type": "code",
   "execution_count": 1180,
   "metadata": {},
   "outputs": [],
   "source": [
    "#lastly we'll need to scale all of our variables\n",
    "scaler = StandardScaler()\n",
    "scaler.fit(all_data)\n",
    "scaled_df = scaler.transform(all_data)"
   ]
  },
  {
   "cell_type": "markdown",
   "metadata": {},
   "source": [
    "Now that we have cleaned and sorted data lets split the old train and test set again."
   ]
  },
  {
   "cell_type": "markdown",
   "metadata": {},
   "source": [
    "# Split cleaned train and test data"
   ]
  },
  {
   "cell_type": "code",
   "execution_count": 1181,
   "metadata": {},
   "outputs": [],
   "source": [
    "training = all_data[:ntrain]\n",
    "test = all_data[ntrain:]"
   ]
  },
  {
   "cell_type": "markdown",
   "metadata": {},
   "source": [
    "# Helping understand MSE, cost function, and Gradient Descent"
   ]
  },
  {
   "cell_type": "code",
   "execution_count": 1182,
   "metadata": {},
   "outputs": [
    {
     "name": "stdout",
     "output_type": "stream",
     "text": [
      "Min MSE: 211025.73989518225\n",
      "Coeff: 0\n"
     ]
    },
    {
     "data": {
      "image/png": "[encoded data removed]",
      "text/plain": [
       "<Figure size 432x288 with 1 Axes>"
      ]
     },
     "metadata": {},
     "output_type": "display_data"
    }
   ],
   "source": [
    "#This exercise helps us understand the convex nature of the cost function\n",
    "import numpy as np\n",
    "\n",
    "mses = []\n",
    "sqf_coef = range(-4000, 4000)\n",
    "for coef in sqf_coef:\n",
    "    pred_values = np.array([coef * TotalSF for TotalSF in training.TotalSF.values])\n",
    "    mses.append(np.sum((target - pred_values)**2))\n",
    "    \n",
    "plt.plot(sqf_coef, mses)\n",
    "print(\"Min MSE: {}\".format(np.min(mses)))\n",
    "print(\"Coeff: {}\".format(sqf_coef[np.argmin(mses)]))"
   ]
  },
  {
   "cell_type": "code",
   "execution_count": 1183,
   "metadata": {},
   "outputs": [],
   "source": [
    "#our cost function is convex! which is good\n",
    "#our MSE is crazy high, which is not good"
   ]
  },
  {
   "cell_type": "code",
   "execution_count": 1184,
   "metadata": {},
   "outputs": [
    {
     "name": "stderr",
     "output_type": "stream",
     "text": [
      "/anaconda3/lib/python3.6/site-packages/ipykernel_launcher.py:12: RuntimeWarning: invalid value encountered in double_scalars\n",
      "  if sys.path[0] == '':\n",
      "/anaconda3/lib/python3.6/site-packages/ipykernel_launcher.py:13: RuntimeWarning: invalid value encountered in double_scalars\n",
      "  del sys.path[0]\n"
     ]
    }
   ],
   "source": [
    "#this is the gradient descent algorithm in code\n",
    "beta_0 = 0\n",
    "beta_1 = 0\n",
    "learning_rate = 0.001\n",
    "TotalSF_values = training.TotalSF.values\n",
    "n = len ('TotalSF')\n",
    "all_mse = []\n",
    "for _ in range(10000):\n",
    "    predicted = beta_0 + beta_1 * TotalSF_values\n",
    "    residuals = target - predicted\n",
    "    all_mse.append(np.sum(residuals**2))\n",
    "    beta_0 = beta_0 - learning_rate * ((2/n) * np.sum(residuals) * -1)\n",
    "    beta_1 = beta_1 - learning_rate * ((2/n) * residuals.dot(TotalSF_values) * -1)"
   ]
  },
  {
   "cell_type": "code",
   "execution_count": 1185,
   "metadata": {},
   "outputs": [
    {
     "data": {
      "text/plain": [
       "[<matplotlib.lines.Line2D at 0x1ad6c4e390>]"
      ]
     },
     "execution_count": 1185,
     "metadata": {},
     "output_type": "execute_result"
    },
    {
     "data": {
      "image/png": "[encoded data removed]",
      "text/plain": [
       "<Figure size 432x288 with 1 Axes>"
      ]
     },
     "metadata": {},
     "output_type": "display_data"
    }
   ],
   "source": [
    "plt.plot(range(len(all_mse)), all_mse)\n"
   ]
  },
  {
   "cell_type": "markdown",
   "metadata": {},
   "source": [
    "This shows that our \"step size\" may be too big. but still helps me better understand the algorithm"
   ]
  },
  {
   "cell_type": "markdown",
   "metadata": {},
   "source": [
    "# Linear Regression Model"
   ]
  },
  {
   "cell_type": "code",
   "execution_count": 1186,
   "metadata": {},
   "outputs": [],
   "source": [
    "#we need to scale and create a dataframe for training\n",
    "scaler = StandardScaler()\n",
    "scaler.fit(training)\n",
    "scaled_df = scaler.transform(training)"
   ]
  },
  {
   "cell_type": "code",
   "execution_count": 1187,
   "metadata": {},
   "outputs": [
    {
     "name": "stdout",
     "output_type": "stream",
     "text": [
      "RMSE: 14.718468942094706\n"
     ]
    }
   ],
   "source": [
    "#This creates a simple linear regression model based on our target. \n",
    "#tol is our step seze and eta0 tells the model to stop when the gain reaches a certain amount\n",
    "linear_regression_model = SGDRegressor(tol=.0001, eta0=.01)\n",
    "linear_regression_model.fit(scaled_df, target)\n",
    "predictions = linear_regression_model.predict(scaled_df)\n",
    "mse = mean_squared_error(target, predictions)\n",
    "print(\"RMSE: {}\".format(np.sqrt(mse)))"
   ]
  },
  {
   "cell_type": "markdown",
   "metadata": {},
   "source": [
    "Our first RMSE! This is great progress\n",
    "\n",
    "\n",
    "We can interpret our linear regression model with some tools shown below"
   ]
  },
  {
   "cell_type": "code",
   "execution_count": 1188,
   "metadata": {},
   "outputs": [
    {
     "data": {
      "text/plain": [
       "[('Neighborhood_Edwards', -0.0008402461329071493),\n",
       " ('Exterior1st_CemntBd', 0.0029264966415693087),\n",
       " ('Electrical_FuseP', -0.003537070665855507),\n",
       " ('BsmtExposure', 0.0036042147881159914),\n",
       " ('BldgType_1Fam', 0.005233023668015873),\n",
       " ('GarageYrBlt', -0.005325111873475566),\n",
       " ('SaleCondition_AdjLand', -0.0075385363871545005),\n",
       " ('Exterior1st_Stucco', 0.008265706008044283),\n",
       " ('MasVnrArea', -0.009307856434162062),\n",
       " ('LotConfig_Corner', -0.011557935237323217),\n",
       " ('Functional', 0.011638204419176039),\n",
       " ('Neighborhood_BrkSide', 0.012218863628130813),\n",
       " ('GarageType_2Types', -0.013076075925024798),\n",
       " ('TotRmsAbvGrd', -0.013918209466644146),\n",
       " ('BldgType_Twnhs', -0.014859000875898951),\n",
       " ('Condition2_PosN', 0.015135885037931212),\n",
       " ('Neighborhood_SawyerW', -0.015965446553041784),\n",
       " ('MasVnrType_None', -0.017808446203779867),\n",
       " ('LandContour_Bnk', 0.020275982229281894),\n",
       " ('Neighborhood_Veenker', 0.020630376557930107),\n",
       " ('CentralAir', -0.020733032364723476),\n",
       " ('Neighborhood_OldTown', -0.021549885972258657),\n",
       " ('Condition1_PosA', -0.02239384114168938),\n",
       " ('BsmtUnfSF', 0.022604760020400478),\n",
       " ('Electrical_FuseF', 0.02305522626709928),\n",
       " ('Exterior2nd_Plywood', 0.024721008101626658),\n",
       " ('RoofMatl_Membran', 0.025764651324230833),\n",
       " ('Exterior2nd_BrkFace', 0.027428545274964286),\n",
       " ('Neighborhood_SWISU', -0.027728509813286745),\n",
       " ('GarageQual', -0.028645731977799835),\n",
       " ('Condition1_RRNn', -0.029935301283093196),\n",
       " ('Exterior2nd_CmentBd', 0.03013212031551849),\n",
       " ('Heating_GasA', 0.031102930806479523),\n",
       " ('SaleType_New', 0.03163513782950712),\n",
       " ('SaleType_CWD', -0.03209741413932922),\n",
       " ('SaleType_COD', 0.03433278184065203),\n",
       " ('OverallQual', 0.03575066491913927),\n",
       " ('HouseStyle_2.5Fin', -0.03640667321020701),\n",
       " ('RoofMatl_WdShngl', 0.03739251729302842),\n",
       " ('Exterior2nd_AsbShng', -0.03806451795615162),\n",
       " ('HouseStyle_SFoyer', 0.03905092547362681),\n",
       " ('Exterior2nd_Stone', -0.040916755207415105),\n",
       " ('SaleType_WD', -0.04308762728911451),\n",
       " ('FullBath', -0.0442072636650415),\n",
       " ('GarageCond', 0.045755928115884754),\n",
       " ('SaleType_ConLD', -0.046203233362236196),\n",
       " ('SaleType_Con', 0.048049037445141496),\n",
       " ('HouseStyle_1Story', -0.04865850893983826),\n",
       " ('MasVnrType_BrkFace', 0.04953562172080496),\n",
       " ('Exterior1st_WdShing', -0.05175068521737798),\n",
       " ('Foundation_CBlock', 0.05179077726775419),\n",
       " ('Condition1_Feedr', -0.052098161172980786),\n",
       " ('KitchenQual', -0.05316635678257214),\n",
       " ('MiscFeature_Othr', -0.0541679782697927),\n",
       " ('Neighborhood_Blmngtn', -0.05474170742322011),\n",
       " ('Neighborhood_Gilbert', -0.05517415113622126),\n",
       " ('GarageType_None', 0.05647206621154208),\n",
       " ('SaleType_ConLw', 0.05656485012745665),\n",
       " ('SaleCondition_Partial', -0.056622552289608954),\n",
       " ('GrLivArea', -0.05791135088093695),\n",
       " ('HalfBath', 0.05869771123413592),\n",
       " ('Foundation_PConc', -0.05919287143368226),\n",
       " ('TotalSF', 0.06113365480553316),\n",
       " ('BsmtFinSF1', 0.06226151179851182),\n",
       " ('EnclosedPorch', 0.0645773641614376),\n",
       " ('KitchenAbvGr', 0.06537141236867564),\n",
       " ('Neighborhood_NridgHt', 0.06556443555961694),\n",
       " ('BsmtFinType1', 0.06780551867958445),\n",
       " ('Exterior2nd_Stucco', 0.06945936682965716),\n",
       " ('Neighborhood_ClearCr', -0.0695902590058162),\n",
       " ('Exterior1st_VinylSd', 0.06971919776830351),\n",
       " ('Exterior2nd_Wd Sdng', 0.07164645837342871),\n",
       " ('WoodDeckSF', 0.07189039663443304),\n",
       " ('PoolArea', 0.0721999813160171),\n",
       " ('HouseStyle_2Story', -0.07268146086440051),\n",
       " ('Exterior1st_HdBoard', 0.07296780739250383),\n",
       " ('GarageType_Attchd', 0.07387814181129171),\n",
       " ('Exterior2nd_MetalSd', 0.07651776273329666),\n",
       " ('RoofMatl_Tar&Grv', 0.07728339588121894),\n",
       " ('BldgType_TwnhsE', 0.07930842675687595),\n",
       " ('LandSlope', 0.08104109380451222),\n",
       " ('SaleType_ConLI', 0.08116925986593837),\n",
       " ('Fireplaces', 0.08177844485987774),\n",
       " ('Foundation_Stone', 0.08187678430409596),\n",
       " ('LandContour_Low', -0.08210858702525907),\n",
       " ('YearRemodAdd', 0.08315935059094814),\n",
       " ('Electrical_FuseA', -0.08428587585540286),\n",
       " ('MoSold', 0.0852507310497944),\n",
       " ('Heating_Wall', -0.0876743663243589),\n",
       " ('2ndFlrSF', 0.08782222424085592),\n",
       " ('SaleCondition_Abnorml', -0.08881025936768264),\n",
       " ('LotShape', -0.090208126703422),\n",
       " ('Exterior1st_Wd Sdng', -0.09104401064037611),\n",
       " ('MasVnrType_Stone', -0.09276646051909417),\n",
       " ('Neighborhood_NoRidge', -0.09424057966378246),\n",
       " ('Exterior2nd_HdBoard', -0.09475972141609848),\n",
       " ('MSZoning_RH', -0.09623703224465702),\n",
       " ('Neighborhood_NAmes', -0.09652129518792457),\n",
       " ('GarageType_CarPort', -0.09751063444896099),\n",
       " ('Condition1_RRAe', 0.0984862016051322),\n",
       " ('SaleType_Oth', -0.0992506785012845),\n",
       " ('GarageCars', 0.10013533211345017),\n",
       " ('Heating_GasW', 0.1012843696023983),\n",
       " ('YearBuilt', 0.10270028554082569),\n",
       " ('Exterior1st_Stone', -0.10277426148421526),\n",
       " ('Exterior2nd_AsphShn', 0.1033205242016828),\n",
       " ('Neighborhood_Somerst', 0.1033210396509167),\n",
       " ('Condition1_Norm', 0.10526109394447644),\n",
       " ('Neighborhood_Blueste', -0.10696204272051148),\n",
       " ('Neighborhood_BrDale', -0.10785064888512913),\n",
       " ('Condition2_Feedr', -0.10849062438380376),\n",
       " ('Electrical_SBrkr', 0.10916855292978433),\n",
       " ('SaleCondition_Normal', 0.10962753788986535),\n",
       " ('Neighborhood_CollgCr', 0.11117995380256966),\n",
       " ('RoofStyle_Flat', -0.11413205716984558),\n",
       " ('SaleCondition_Family', 0.11614644342678522),\n",
       " ('BsmtCond', -0.11631978886611698),\n",
       " ('MasVnrType_BrkCmn', 0.118782585669894),\n",
       " ('GarageType_Detchd', -0.12280555373325638),\n",
       " ('LotConfig_FR3', -0.12379093466344504),\n",
       " ('Condition2_RRNn', 0.12451704430878356),\n",
       " ('LotFrontage', -0.12511824167596494),\n",
       " ('LotArea', 0.1294977843337221),\n",
       " ('Heating_Grav', -0.13146113393966372),\n",
       " ('Neighborhood_Timber', -0.1325463823741429),\n",
       " ('Exterior2nd_Brk Cmn', -0.13453214255912804),\n",
       " ('LandContour_Lvl', -0.13638623138805175),\n",
       " ('Foundation_BrkTil', -0.13680338856062166),\n",
       " ('HouseStyle_SLvl', 0.14027088365666143),\n",
       " ('Neighborhood_StoneBr', -0.14181818610447822),\n",
       " ('LotConfig_Inside', 0.14213119373453342),\n",
       " ('1stFlrSF', -0.1441387959454653),\n",
       " ('Exterior2nd_ImStucc', -0.1447269994884783),\n",
       " ('GarageType_BuiltIn', 0.14500492109932206),\n",
       " ('RoofStyle_Gambrel', 0.1467305363913736),\n",
       " ('Neighborhood_Crawfor', 0.14842770441604586),\n",
       " ('Neighborhood_Mitchel', 0.1487411694729795),\n",
       " ('Exterior2nd_VinylSd', 0.14933861501486867),\n",
       " ('Neighborhood_NPkVill', -0.15105732028290045),\n",
       " ('TotalBsmtSF', 0.15111388200787143),\n",
       " ('Neighborhood_NWAmes', -0.15530025031966088),\n",
       " ('RoofMatl_CompShg', 0.15761640979526728),\n",
       " ('RoofStyle_Gable', -0.158281447189281),\n",
       " ('MSZoning_RM', 0.15889255501505997),\n",
       " ('GarageArea', 0.15950801258348954),\n",
       " ('BsmtFinSF2', 0.15957680430430837),\n",
       " ('Exterior1st_BrkComm', 0.16179091340523408),\n",
       " ('HouseStyle_1.5Fin', 0.16389598320356677),\n",
       " ('MSZoning_RL', -0.16579255545735996),\n",
       " ('RoofStyle_Mansard', -0.16730304882023975),\n",
       " ('FireplaceQu', 0.16971915027792728),\n",
       " ('Condition1_PosN', 0.17127593326926477),\n",
       " ('MiscFeature_None', -0.17411417552415634),\n",
       " ('RoofStyle_Hip', -0.17516449917729132),\n",
       " ('MSSubClass', -0.17681987135594368),\n",
       " ('GarageType_Basment', -0.18370821320728714),\n",
       " ('SaleCondition_Alloca', -0.1858565004181957),\n",
       " ('Condition1_RRNe', 0.18813540273328638),\n",
       " ('Street', 0.19069134400447033),\n",
       " ('BsmtFullBath', 0.19648408083282862),\n",
       " ('BsmtFinType2', 0.20050187944109651),\n",
       " ('Foundation_Slab', 0.20392332974629512),\n",
       " ('LotConfig_FR2', 0.20495076827383285),\n",
       " ('Neighborhood_Sawyer', 0.2093090168789641),\n",
       " ('HeatingQC', -0.21361893420231587),\n",
       " ('MSZoning_FV', 0.21803625410952493),\n",
       " ('RoofMatl_WdShake', 0.22123356840463398),\n",
       " ('Condition2_Norm', 0.2223090487329239),\n",
       " ('Exterior1st_Plywood', 0.23112286642631671),\n",
       " ('3SsnPorch', 0.2312707733078045),\n",
       " ('BldgType_2fmCon', 0.23775884244094211),\n",
       " ('BsmtHalfBath', 0.24201236412614832),\n",
       " ('Condition2_Artery', 0.24208667163430272),\n",
       " ('Neighborhood_MeadowV', -0.24827405987342377),\n",
       " ('Exterior1st_MetalSd', 0.2601404550143313),\n",
       " ('Neighborhood_IDOTRR', 0.26187897132105264),\n",
       " ('BedroomAbvGr', 0.26694157509457095),\n",
       " ('YrSold', 0.26920818813408764),\n",
       " ('LandContour_HLS', 0.27336367865449085),\n",
       " ('Exterior1st_BrkFace', 0.2845630165097342),\n",
       " ('Fence', -0.2863433565371496),\n",
       " ('LowQualFinSF', -0.2882792311615812),\n",
       " ('MSZoning_C (all)', -0.28931925873632974),\n",
       " ('BldgType_Duplex', -0.29665964106720344),\n",
       " ('Foundation_Wood', 0.30017137824538226),\n",
       " ('Exterior2nd_Wd Shng', 0.31062764713823177),\n",
       " ('Condition1_RRAn', 0.3145767175644255),\n",
       " ('GarageFinish', 0.3473385723258548),\n",
       " ('HouseStyle_1.5Unf', 0.3581504624463915),\n",
       " ('OverallCond', -0.35864841967806876),\n",
       " ('LotConfig_CulDSac', -0.36257126215884394),\n",
       " ('PoolQC', -0.3736204773306993),\n",
       " ('Exterior1st_AsbShng', -0.386282316858004),\n",
       " ('ExterCond', 0.3916758387472694),\n",
       " ('PavedDrive', -0.395908037007893),\n",
       " ('BsmtQual', -0.3979762581031128),\n",
       " ('RoofMatl_Roll', -0.39812407155992735),\n",
       " ('OpenPorchSF', -0.40849425132241296),\n",
       " ('ExterQual', 0.4462316385352153),\n",
       " ('Alley', -0.46829573336989716),\n",
       " ('Electrical_Mix', -0.48937982496428034),\n",
       " ('Heating_OthW', 0.5135943922038301),\n",
       " ('Exterior1st_ImStucc', -0.5209890142684871),\n",
       " ('ScreenPorch', 0.5216476606512479),\n",
       " ('Condition1_Artery', -0.5426269858353754),\n",
       " ('Exterior2nd_Other', -0.5746848008262816),\n",
       " ('MiscFeature_Shed', 0.6156890984098542),\n",
       " ('HouseStyle_2.5Unf', -0.6927701484852784),\n",
       " ('Heating_Floor', -0.8050800245083877),\n",
       " ('RoofMatl_Metal', -1.250092916519749),\n",
       " ('Condition2_RRAn', -1.708607315024852),\n",
       " ('Exterior1st_AsphShn', -1.7275048459787155),\n",
       " ('MiscFeature_TenC', 1.9787108527078772),\n",
       " ('Condition2_PosA', -2.8450826036280543),\n",
       " ('MiscFeature_Gar2', -3.454966152112995),\n",
       " ('Condition2_RRAe', 3.4574812168138758),\n",
       " ('RoofStyle_Shed', 3.897641383645043),\n",
       " ('MiscVal', -4.3334550552026165),\n",
       " ('Exterior1st_CBlock', -4.829190477685632),\n",
       " ('Exterior2nd_CBlock', -4.829190477685632)]"
      ]
     },
     "execution_count": 1188,
     "metadata": {},
     "output_type": "execute_result"
    }
   ],
   "source": [
    "#this will give us coefficient values\n",
    "linear_regression_model.fit(scaled_df, target)\n",
    "sorted(list(zip(training.columns, linear_regression_model.coef_)), key=lambda x: abs(x[1]))"
   ]
  },
  {
   "cell_type": "code",
   "execution_count": 1189,
   "metadata": {},
   "outputs": [],
   "source": [
    "#there are a few too many to interpret\n"
   ]
  },
  {
   "cell_type": "markdown",
   "metadata": {},
   "source": [
    "Lets work with polynomials now"
   ]
  },
  {
   "cell_type": "code",
   "execution_count": 1190,
   "metadata": {},
   "outputs": [
    {
     "name": "stdout",
     "output_type": "stream",
     "text": [
      "(1458, 24530)\n"
     ]
    }
   ],
   "source": [
    "poly = PolynomialFeatures(2, include_bias=False)\n",
    "poly_df = poly.fit_transform(training)\n",
    "scaled_poly_df = scaler.fit_transform(poly_df)\n",
    "print(scaled_poly_df.shape)"
   ]
  },
  {
   "cell_type": "code",
   "execution_count": 1191,
   "metadata": {},
   "outputs": [
    {
     "name": "stdout",
     "output_type": "stream",
     "text": [
      "RMSE: 22509663613200.64\n"
     ]
    }
   ],
   "source": [
    "linear_regression_model.fit(scaled_poly_df, target)\n",
    "predictions = linear_regression_model.predict(scaled_poly_df)\n",
    "mse = mean_squared_error(target, predictions)\n",
    "print(\"RMSE: {}\".format(np.sqrt(mse)))"
   ]
  },
  {
   "cell_type": "markdown",
   "metadata": {},
   "source": [
    "ok, good to know, adding polynomial features honestly just freaks out our model, just look at that massive MSE\n",
    "22 trillion!!!! NOT GOOD"
   ]
  },
  {
   "cell_type": "markdown",
   "metadata": {},
   "source": [
    "# Lets look at the confdence interval for our model"
   ]
  },
  {
   "cell_type": "code",
   "execution_count": 1192,
   "metadata": {},
   "outputs": [],
   "source": [
    "n_bootstraps = 1000\n",
    "bootstrap_X = []\n",
    "bootstrap_y = []\n",
    "for _ in range(n_bootstraps):\n",
    "    sample_X, sample_y = resample(scaled_df, target)\n",
    "    bootstrap_X.append(sample_X)\n",
    "    bootstrap_y.append(sample_y)"
   ]
  },
  {
   "cell_type": "code",
   "execution_count": 1193,
   "metadata": {},
   "outputs": [],
   "source": [
    "linear_regression_model = SGDRegressor(tol=.0001, eta0=.01)\n",
    "coeffs = []\n",
    "for i, data in enumerate(bootstrap_X):\n",
    "    linear_regression_model.fit(data, bootstrap_y[i])\n",
    "    coeffs.append(linear_regression_model.coef_)"
   ]
  },
  {
   "cell_type": "code",
   "execution_count": 1194,
   "metadata": {},
   "outputs": [
    {
     "data": {
      "text/plain": [
       "(array([  1,   2,   3,   4,   5,   6,   7,   8,   9,  10,  11,  12,  13,\n",
       "         14,  15,  16,  17,  18,  19,  20,  21,  22,  23,  24,  25,  26,\n",
       "         27,  28,  29,  30,  31,  32,  33,  34,  35,  36,  37,  38,  39,\n",
       "         40,  41,  42,  43,  44,  45,  46,  47,  48,  49,  50,  51,  52,\n",
       "         53,  54,  55,  56,  57,  58,  59,  60,  61,  62,  63,  64,  65,\n",
       "         66,  67,  68,  69,  70,  71,  72,  73,  74,  75,  76,  77,  78,\n",
       "         79,  80,  81,  82,  83,  84,  85,  86,  87,  88,  89,  90,  91,\n",
       "         92,  93,  94,  95,  96,  97,  98,  99, 100, 101, 102, 103, 104,\n",
       "        105, 106, 107, 108, 109, 110, 111, 112, 113, 114, 115, 116, 117,\n",
       "        118, 119, 120, 121, 122, 123, 124, 125, 126, 127, 128, 129, 130,\n",
       "        131, 132, 133, 134, 135, 136, 137, 138, 139, 140, 141, 142, 143,\n",
       "        144, 145, 146, 147, 148, 149, 150, 151, 152, 153, 154, 155, 156,\n",
       "        157, 158, 159, 160, 161, 162, 163, 164, 165, 166, 167, 168, 169,\n",
       "        170, 171, 172, 173, 174, 175, 176, 177, 178, 179, 180, 181, 182,\n",
       "        183, 184, 185, 186, 187, 188, 189, 190, 191, 192, 193, 194, 195,\n",
       "        196, 197, 198, 199, 200, 201, 202, 203, 204, 205, 206, 207, 208,\n",
       "        209, 210, 211, 212, 213, 214, 215, 216, 217, 218, 219, 220]),\n",
       " <a list of 220 Text xticklabel objects>)"
      ]
     },
     "execution_count": 1194,
     "metadata": {},
     "output_type": "execute_result"
    },
    {
     "data": {
      "image/png": "[encoded data removed]",
      "text/plain": [
       "<Figure size 432x288 with 1 Axes>"
      ]
     },
     "metadata": {},
     "output_type": "display_data"
    }
   ],
   "source": [
    "coef_df = pd.DataFrame(coeffs, columns=training.columns)\n",
    "coef_df.plot(kind='box')\n",
    "plt.xticks(rotation=90)"
   ]
  },
  {
   "cell_type": "code",
   "execution_count": 1195,
   "metadata": {},
   "outputs": [],
   "source": [
    "#I'm worried about some of those large negative coefficients, and the data is too dense to see the effect\n",
    "#the data is too dense to see confidence intervals"
   ]
  },
  {
   "cell_type": "code",
   "execution_count": 1196,
   "metadata": {},
   "outputs": [
    {
     "data": {
      "text/plain": [
       "count      1000.000000\n",
       "mean        -96.934402\n",
       "std        8419.698454\n",
       "min     -226857.554180\n",
       "25%          -0.586824\n",
       "50%          -0.016501\n",
       "75%           0.406388\n",
       "max      138979.063408\n",
       "Name: TotalSF, dtype: float64"
      ]
     },
     "execution_count": 1196,
     "metadata": {},
     "output_type": "execute_result"
    }
   ],
   "source": [
    "#this helps me look at the general effect of the coefficient for a specific variable\n",
    "coef_df['TotalSF'].describe()"
   ]
  },
  {
   "cell_type": "markdown",
   "metadata": {},
   "source": [
    "# Lets refine the model using a train test split framework"
   ]
  },
  {
   "cell_type": "code",
   "execution_count": 1197,
   "metadata": {},
   "outputs": [],
   "source": [
    "#this is how to begin the train test split\n",
    "X_train, X_test, y_train, y_test = train_test_split(scaled_df, target, test_size=0.33, random_state=42)"
   ]
  },
  {
   "cell_type": "code",
   "execution_count": 1199,
   "metadata": {},
   "outputs": [
    {
     "name": "stdout",
     "output_type": "stream",
     "text": [
      "Train MSE: 969.3222338887637\n",
      "Test MSE: 417.06878917469135\n"
     ]
    }
   ],
   "source": [
    "#here we run the model and control various hyper parameters\n",
    "linear_regression_model = SGDRegressor(tol=.0001, eta0=.01)\n",
    "linear_regression_model.fit(X_train, y_train)\n",
    "train_predictions = linear_regression_model.predict(X_train)\n",
    "test_predictions = linear_regression_model.predict(X_test)\n",
    "\n",
    "train_mse = mean_squared_error(y_train, train_predictions)\n",
    "test_mse = mean_squared_error(y_test, test_predictions)\n",
    "\n",
    "print(\"Train MSE: {}\".format(train_mse))\n",
    "print(\"Test MSE: {}\".format(test_mse))"
   ]
  },
  {
   "cell_type": "markdown",
   "metadata": {},
   "source": [
    "Given the large difference between the train and test MSE, as well as the large MSE we can see we have an a model that is not very accurate, it changes based on randomness. TO help this lets tune the hyper parameters of the model"
   ]
  },
  {
   "cell_type": "code",
   "execution_count": 1200,
   "metadata": {},
   "outputs": [
    {
     "name": "stdout",
     "output_type": "stream",
     "text": [
      "Best Parameters: {'eta0': 0.003}\n",
      "Best Negative MSE: -6.412152241147501\n"
     ]
    }
   ],
   "source": [
    "from sklearn.model_selection import RandomizedSearchCV\n",
    "\n",
    "param_dist = {\"eta0\": [ .001, .003, .01, .03, .1, .3, 1, 3]}\n",
    "\n",
    "linear_regression_model = SGDRegressor(tol=.0001)\n",
    "\n",
    "n_iter_search = 8\n",
    "random_search = RandomizedSearchCV(linear_regression_model, param_distributions=param_dist,\n",
    "                                   n_iter=n_iter_search, cv=5, scoring='neg_mean_squared_error')\n",
    "random_search.fit(X_train, y_train)\n",
    "\n",
    "print(\"Best Parameters: {}\".format(random_search.best_params_))\n",
    "print(\"Best Negative MSE: {}\".format(random_search.best_score_))"
   ]
  },
  {
   "cell_type": "markdown",
   "metadata": {},
   "source": [
    "This means the best step size for the model is .003 the n iter search means it created buckets in 5 seperate occasions, the cv is the amount of folds we have which was 5. THis negative MSE is great progress for us!\n",
    "\n",
    "\n",
    "lets see how the linear regression runs with these updated hyperparameters"
   ]
  },
  {
   "cell_type": "code",
   "execution_count": 1201,
   "metadata": {},
   "outputs": [
    {
     "name": "stdout",
     "output_type": "stream",
     "text": [
      "RMSE: 0.10212510730774152\n"
     ]
    }
   ],
   "source": [
    "linear_regression_model = SGDRegressor(tol=.0001, eta0=.003)\n",
    "linear_regression_model.fit(scaled_df, target)\n",
    "predictions = linear_regression_model.predict(scaled_df)\n",
    "mse = mean_squared_error(target, predictions)\n",
    "print(\"RMSE: {}\".format(np.sqrt(mse)))"
   ]
  },
  {
   "cell_type": "markdown",
   "metadata": {},
   "source": [
    "This is our best result yet! LEts try another model to account for the large coefficients"
   ]
  },
  {
   "cell_type": "markdown",
   "metadata": {},
   "source": [
    "# We have high variance in our model so lets regularize the data to penalize large coefficients"
   ]
  },
  {
   "cell_type": "code",
   "execution_count": 1202,
   "metadata": {},
   "outputs": [
    {
     "name": "stdout",
     "output_type": "stream",
     "text": [
      "Train MSE: 0.01219753152594302\n",
      "Test MSE: 0.014786770548115788\n"
     ]
    }
   ],
   "source": [
    "#let use this regularization model on our train test plit data\n",
    "from sklearn.linear_model import ElasticNetCV\n",
    "\n",
    "\n",
    "clf = ElasticNetCV(l1_ratio=[.1, .5, .7, .9, .95, .99, 1], alphas=[.1, 1, 10])\n",
    "clf.fit(X_train, y_train)\n",
    "train_predictions = clf.predict(X_train)\n",
    "test_predictions = clf.predict(X_test)\n",
    "print(\"Train MSE: {}\".format(mean_squared_error(y_train, train_predictions)))\n",
    "print(\"Test MSE: {}\".format(mean_squared_error(y_test, test_predictions)))"
   ]
  },
  {
   "cell_type": "markdown",
   "metadata": {},
   "source": [
    "This is by far our best MSE! \n",
    "Why?\n",
    "As we saw on our earlier coefficient visualizer there were a few coefficients with insanely high values, this takes out that overfitting and will allow the model to run in a much smoother way.\n",
    "\n",
    "LEts run this with the test data a submit our results"
   ]
  },
  {
   "cell_type": "markdown",
   "metadata": {},
   "source": [
    "# Running the test"
   ]
  },
  {
   "cell_type": "code",
   "execution_count": 1203,
   "metadata": {},
   "outputs": [],
   "source": [
    "predicted_prices = clf.predict(test)"
   ]
  },
  {
   "cell_type": "code",
   "execution_count": 1204,
   "metadata": {},
   "outputs": [
    {
     "name": "stdout",
     "output_type": "stream",
     "text": [
      "[491.14156621 621.85017716 623.53398636 ... 687.87739024 457.71107301\n",
      " 627.23358996]\n"
     ]
    }
   ],
   "source": [
    "print(predicted_prices)"
   ]
  },
  {
   "cell_type": "markdown",
   "metadata": {},
   "source": [
    "# Printing and submitting results"
   ]
  },
  {
   "cell_type": "code",
   "execution_count": 1205,
   "metadata": {},
   "outputs": [],
   "source": [
    "my_submission = pd.DataFrame({'Id': test_ID, 'SalePrice': predicted_prices})\n",
    "# you could use any filename. We choose submission here\n",
    "my_submission.to_csv('submission.csv', index=False)"
   ]
  },
  {
   "cell_type": "code",
   "execution_count": 1206,
   "metadata": {},
   "outputs": [
    {
     "data": {
      "text/html": [
       "<div>\n",
       "<style scoped>\n",
       "    .dataframe tbody tr th:only-of-type {\n",
       "        vertical-align: middle;\n",
       "    }\n",
       "\n",
       "    .dataframe tbody tr th {\n",
       "        vertical-align: top;\n",
       "    }\n",
       "\n",
       "    .dataframe thead th {\n",
       "        text-align: right;\n",
       "    }\n",
       "</style>\n",
       "<table border=\"1\" class=\"dataframe\">\n",
       "  <thead>\n",
       "    <tr style=\"text-align: right;\">\n",
       "      <th></th>\n",
       "      <th>Id</th>\n",
       "      <th>SalePrice</th>\n",
       "    </tr>\n",
       "  </thead>\n",
       "  <tbody>\n",
       "    <tr>\n",
       "      <th>0</th>\n",
       "      <td>1461</td>\n",
       "      <td>491.141566</td>\n",
       "    </tr>\n",
       "    <tr>\n",
       "      <th>1</th>\n",
       "      <td>1462</td>\n",
       "      <td>621.850177</td>\n",
       "    </tr>\n",
       "    <tr>\n",
       "      <th>2</th>\n",
       "      <td>1463</td>\n",
       "      <td>623.533986</td>\n",
       "    </tr>\n",
       "    <tr>\n",
       "      <th>3</th>\n",
       "      <td>1464</td>\n",
       "      <td>567.069607</td>\n",
       "    </tr>\n",
       "    <tr>\n",
       "      <th>4</th>\n",
       "      <td>1465</td>\n",
       "      <td>481.357124</td>\n",
       "    </tr>\n",
       "    <tr>\n",
       "      <th>5</th>\n",
       "      <td>1466</td>\n",
       "      <td>541.575407</td>\n",
       "    </tr>\n",
       "    <tr>\n",
       "      <th>6</th>\n",
       "      <td>1467</td>\n",
       "      <td>517.147861</td>\n",
       "    </tr>\n",
       "    <tr>\n",
       "      <th>7</th>\n",
       "      <td>1468</td>\n",
       "      <td>497.506798</td>\n",
       "    </tr>\n",
       "    <tr>\n",
       "      <th>8</th>\n",
       "      <td>1469</td>\n",
       "      <td>567.116666</td>\n",
       "    </tr>\n",
       "    <tr>\n",
       "      <th>9</th>\n",
       "      <td>1470</td>\n",
       "      <td>454.696228</td>\n",
       "    </tr>\n",
       "    <tr>\n",
       "      <th>10</th>\n",
       "      <td>1471</td>\n",
       "      <td>532.888489</td>\n",
       "    </tr>\n",
       "    <tr>\n",
       "      <th>11</th>\n",
       "      <td>1472</td>\n",
       "      <td>326.728349</td>\n",
       "    </tr>\n",
       "    <tr>\n",
       "      <th>12</th>\n",
       "      <td>1473</td>\n",
       "      <td>348.013417</td>\n",
       "    </tr>\n",
       "    <tr>\n",
       "      <th>13</th>\n",
       "      <td>1474</td>\n",
       "      <td>439.609920</td>\n",
       "    </tr>\n",
       "    <tr>\n",
       "      <th>14</th>\n",
       "      <td>1475</td>\n",
       "      <td>339.600726</td>\n",
       "    </tr>\n",
       "  </tbody>\n",
       "</table>\n",
       "</div>"
      ],
      "text/plain": [
       "      Id   SalePrice\n",
       "0   1461  491.141566\n",
       "1   1462  621.850177\n",
       "2   1463  623.533986\n",
       "3   1464  567.069607\n",
       "4   1465  481.357124\n",
       "5   1466  541.575407\n",
       "6   1467  517.147861\n",
       "7   1468  497.506798\n",
       "8   1469  567.116666\n",
       "9   1470  454.696228\n",
       "10  1471  532.888489\n",
       "11  1472  326.728349\n",
       "12  1473  348.013417\n",
       "13  1474  439.609920\n",
       "14  1475  339.600726"
      ]
     },
     "execution_count": 1206,
     "metadata": {},
     "output_type": "execute_result"
    }
   ],
   "source": [
    "my_submission.head(15)"
   ]
  },
  {
   "cell_type": "markdown",
   "metadata": {},
   "source": [
    "My predictions are clearly wrong, I arrived at relatively small MSE but it looks like that is not enough to get even somewhat accurate predicitons. Looking forward to learning how to make better predicitons. Initial thoughts are that I have far too many variables, how can I be more selective?\n",
    "\n",
    "While I could have found more accurate results by following line for line in kaggle i chose to try to build my own using the tools that I actually understood. "
   ]
  },
  {
   "cell_type": "markdown",
   "metadata": {},
   "source": [
    "I submitted to kaggle and recieved a score of 5.73189 and ranked 4045, definitly room to grow\n"
   ]
  },
  {
   "cell_type": "code",
   "execution_count": null,
   "metadata": {},
   "outputs": [],
   "source": []
  }
 ],
 "metadata": {
  "kernelspec": {
   "display_name": "Python 3",
   "language": "python",
   "name": "python3"
  },
  "language_info": {
   "codemirror_mode": {
    "name": "ipython",
    "version": 3
   },
   "file_extension": ".py",
   "mimetype": "text/x-python",
   "name": "python",
   "nbconvert_exporter": "python",
   "pygments_lexer": "ipython3",
   "version": "3.6.5"
  }
 },
 "nbformat": 4,
 "nbformat_minor": 2
}
